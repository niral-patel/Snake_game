{
 "cells": [
  {
   "cell_type": "code",
   "execution_count": 1,
   "metadata": {},
   "outputs": [
    {
     "name": "stdout",
     "output_type": "stream",
     "text": [
      "pygame 2.1.2 (SDL 2.0.18, Python 3.9.12)\n",
      "Hello from the pygame community. https://www.pygame.org/contribute.html\n"
     ]
    }
   ],
   "source": [
    "# importing libraries\n",
    "import pygame\n",
    "import time\n",
    "import random\n"
   ]
  },
  {
   "cell_type": "code",
   "execution_count": 2,
   "metadata": {},
   "outputs": [],
   "source": [
    "\n",
    "snake_speed = 15\n",
    "\n",
    "# defining colors\n",
    "black = pygame.Color(0, 0, 0)\n",
    "white = pygame.Color(255, 255, 255)\n",
    "red = pygame.Color(255, 0, 0)\n",
    "green = pygame.Color(0, 255, 0)\n",
    "blue = pygame.Color(0, 0, 255)"
   ]
  },
  {
   "cell_type": "code",
   "execution_count": 3,
   "metadata": {},
   "outputs": [],
   "source": [
    "# Initialising pygame\n",
    "pygame.init()\n",
    "\n",
    "# Initialise game window\n",
    "game_window = pygame.display.set_mode((1000, 800))\n",
    "\n",
    "# FPS (frames per second) controller\n",
    "fps = pygame.time.Clock()\n",
    "\n",
    "# defining snake default position\n",
    "snake_position = [100, 55]\n",
    "\n",
    "# defining first 4 blocks of snake body\n",
    "snake_body = [[100, 55],\n",
    "\t\t\t[90, 50],\n",
    "\t\t\t[80, 50],\n",
    "\t\t\t[70, 50]\n",
    "\t\t\t]\n",
    "# fruit position\n",
    "fruit_position = [random.randrange(1, (window_x//10)) * 10,\n",
    "\t\t\t\trandom.randrange(1, (window_y//10)) * 10]\n",
    "\n",
    "fruit_spawn = True\n",
    "\n",
    "# setting default snake direction towards\n",
    "# right\n",
    "direction = 'LEFT'\n",
    "change_to = direction\n",
    "\n",
    "# initial score\n",
    "score = 0"
   ]
  },
  {
   "cell_type": "code",
   "execution_count": 4,
   "metadata": {},
   "outputs": [],
   "source": [
    "# displaying Score function\n",
    "def show_score(choice, color, font, size):\n",
    "\n",
    "\t# creating font object score_font\n",
    "\tscore_font = pygame.font.SysFont(font, size)\n",
    "\t\n",
    "\t# create the display surface object\n",
    "\t# score_surface\n",
    "\tscore_surface = score_font.render('Score : ' + str(score), True, color)\n",
    "\t\n",
    "\t# create a rectangular object for the text\n",
    "\t# surface object\n",
    "\tscore_rect = score_surface.get_rect()\n",
    "\t\n",
    "\t# displaying text\n",
    "\tgame_window.blit(score_surface, score_rect)"
   ]
  },
  {
   "cell_type": "code",
   "execution_count": 5,
   "metadata": {},
   "outputs": [],
   "source": [
    "# game over function\n",
    "def game_over():\n",
    "\n",
    "\t# creating font object my_font\n",
    "\tmy_font = pygame.font.SysFont('times new roman', 50)\n",
    "\t\n",
    "\t# creating a text surface on which text\n",
    "\t# will be drawn\n",
    "\tgame_over_surface = my_font.render(\n",
    "\t\t'Your Score is : ' + str(score), True, red)\n",
    "\t\n",
    "\t# create a rectangular object for the text\n",
    "\t# surface object\n",
    "\tgame_over_rect = game_over_surface.get_rect()\n",
    "\t\n",
    "\t# setting position of the text\n",
    "\tgame_over_rect.midtop = (window_x/2, window_y/4)\n",
    "\t\n",
    "\t# blit will draw the text on screen\n",
    "\tgame_window.blit(game_over_surface, game_over_rect)\n",
    "\tpygame.display.flip()\n",
    "\t\n",
    "\t# after 2 seconds we will quit the program\n",
    "\ttime.sleep(2)\n",
    "\t\n",
    "\t# deactivating pygame library\n",
    "\tpygame.quit()\n",
    "\t\n",
    "\t# quit the program\n",
    "\tquit()"
   ]
  },
  {
   "cell_type": "code",
   "execution_count": 6,
   "metadata": {},
   "outputs": [
    {
     "ename": "error",
     "evalue": "font not initialized",
     "output_type": "error",
     "traceback": [
      "\u001b[0;31m---------------------------------------------------------------------------\u001b[0m",
      "\u001b[0;31merror\u001b[0m                                     Traceback (most recent call last)",
      "\u001b[1;32m/Users/vnpatel/Desktop/NYIT Study/pro for ds/project/project.ipynb Cell 6'\u001b[0m in \u001b[0;36m<cell line: 5>\u001b[0;34m()\u001b[0m\n\u001b[1;32m     <a href='vscode-notebook-cell:/Users/vnpatel/Desktop/NYIT%20Study/pro%20for%20ds/project/project.ipynb#ch0000001?line=69'>70</a>\u001b[0m \t\tgame_over()\n\u001b[1;32m     <a href='vscode-notebook-cell:/Users/vnpatel/Desktop/NYIT%20Study/pro%20for%20ds/project/project.ipynb#ch0000001?line=71'>72</a>\u001b[0m \u001b[39m# displaying score countinuously\u001b[39;00m\n\u001b[0;32m---> <a href='vscode-notebook-cell:/Users/vnpatel/Desktop/NYIT%20Study/pro%20for%20ds/project/project.ipynb#ch0000001?line=72'>73</a>\u001b[0m show_score(\u001b[39m1\u001b[39;49m, white, \u001b[39m'\u001b[39;49m\u001b[39mtimes new roman\u001b[39;49m\u001b[39m'\u001b[39;49m, \u001b[39m20\u001b[39;49m)\n\u001b[1;32m     <a href='vscode-notebook-cell:/Users/vnpatel/Desktop/NYIT%20Study/pro%20for%20ds/project/project.ipynb#ch0000001?line=74'>75</a>\u001b[0m \u001b[39m# Refresh game screen\u001b[39;00m\n\u001b[1;32m     <a href='vscode-notebook-cell:/Users/vnpatel/Desktop/NYIT%20Study/pro%20for%20ds/project/project.ipynb#ch0000001?line=75'>76</a>\u001b[0m pygame\u001b[39m.\u001b[39mdisplay\u001b[39m.\u001b[39mupdate()\n",
      "\u001b[1;32m/Users/vnpatel/Desktop/NYIT Study/pro for ds/project/project.ipynb Cell 4'\u001b[0m in \u001b[0;36mshow_score\u001b[0;34m(choice, color, font, size)\u001b[0m\n\u001b[1;32m      <a href='vscode-notebook-cell:/Users/vnpatel/Desktop/NYIT%20Study/pro%20for%20ds/project/project.ipynb#ch0000004?line=1'>2</a>\u001b[0m \u001b[39mdef\u001b[39;00m \u001b[39mshow_score\u001b[39m(choice, color, font, size):\n\u001b[1;32m      <a href='vscode-notebook-cell:/Users/vnpatel/Desktop/NYIT%20Study/pro%20for%20ds/project/project.ipynb#ch0000004?line=2'>3</a>\u001b[0m \n\u001b[1;32m      <a href='vscode-notebook-cell:/Users/vnpatel/Desktop/NYIT%20Study/pro%20for%20ds/project/project.ipynb#ch0000004?line=3'>4</a>\u001b[0m \t\u001b[39m# creating font object score_font\u001b[39;00m\n\u001b[0;32m----> <a href='vscode-notebook-cell:/Users/vnpatel/Desktop/NYIT%20Study/pro%20for%20ds/project/project.ipynb#ch0000004?line=4'>5</a>\u001b[0m \tscore_font \u001b[39m=\u001b[39m pygame\u001b[39m.\u001b[39;49mfont\u001b[39m.\u001b[39;49mSysFont(font, size)\n\u001b[1;32m      <a href='vscode-notebook-cell:/Users/vnpatel/Desktop/NYIT%20Study/pro%20for%20ds/project/project.ipynb#ch0000004?line=6'>7</a>\u001b[0m \t\u001b[39m# create the display surface object\u001b[39;00m\n\u001b[1;32m      <a href='vscode-notebook-cell:/Users/vnpatel/Desktop/NYIT%20Study/pro%20for%20ds/project/project.ipynb#ch0000004?line=7'>8</a>\u001b[0m \t\u001b[39m# score_surface\u001b[39;00m\n\u001b[1;32m      <a href='vscode-notebook-cell:/Users/vnpatel/Desktop/NYIT%20Study/pro%20for%20ds/project/project.ipynb#ch0000004?line=8'>9</a>\u001b[0m \tscore_surface \u001b[39m=\u001b[39m score_font\u001b[39m.\u001b[39mrender(\u001b[39m'\u001b[39m\u001b[39mScore : \u001b[39m\u001b[39m'\u001b[39m \u001b[39m+\u001b[39m \u001b[39mstr\u001b[39m(score), \u001b[39mTrue\u001b[39;00m, color)\n",
      "File \u001b[0;32m~/opt/anaconda3/lib/python3.9/site-packages/pygame/sysfont.py:474\u001b[0m, in \u001b[0;36mSysFont\u001b[0;34m(name, size, bold, italic, constructor)\u001b[0m\n\u001b[1;32m    <a href='file:///Users/vnpatel/opt/anaconda3/lib/python3.9/site-packages/pygame/sysfont.py?line=470'>471</a>\u001b[0m \u001b[39mif\u001b[39;00m italic \u001b[39mand\u001b[39;00m \u001b[39mnot\u001b[39;00m gotitalic:\n\u001b[1;32m    <a href='file:///Users/vnpatel/opt/anaconda3/lib/python3.9/site-packages/pygame/sysfont.py?line=471'>472</a>\u001b[0m     set_italic \u001b[39m=\u001b[39m \u001b[39mTrue\u001b[39;00m\n\u001b[0;32m--> <a href='file:///Users/vnpatel/opt/anaconda3/lib/python3.9/site-packages/pygame/sysfont.py?line=473'>474</a>\u001b[0m \u001b[39mreturn\u001b[39;00m constructor(fontname, size, set_bold, set_italic)\n",
      "File \u001b[0;32m~/opt/anaconda3/lib/python3.9/site-packages/pygame/sysfont.py:391\u001b[0m, in \u001b[0;36mfont_constructor\u001b[0;34m(fontpath, size, bold, italic)\u001b[0m\n\u001b[1;32m    <a href='file:///Users/vnpatel/opt/anaconda3/lib/python3.9/site-packages/pygame/sysfont.py?line=378'>379</a>\u001b[0m \u001b[39mdef\u001b[39;00m \u001b[39mfont_constructor\u001b[39m(fontpath, size, bold, italic):\n\u001b[1;32m    <a href='file:///Users/vnpatel/opt/anaconda3/lib/python3.9/site-packages/pygame/sysfont.py?line=379'>380</a>\u001b[0m     \u001b[39m\"\"\"\u001b[39;00m\n\u001b[1;32m    <a href='file:///Users/vnpatel/opt/anaconda3/lib/python3.9/site-packages/pygame/sysfont.py?line=380'>381</a>\u001b[0m \u001b[39m    pygame.font specific declarations\u001b[39;00m\n\u001b[1;32m    <a href='file:///Users/vnpatel/opt/anaconda3/lib/python3.9/site-packages/pygame/sysfont.py?line=381'>382</a>\u001b[0m \n\u001b[0;32m   (...)\u001b[0m\n\u001b[1;32m    <a href='file:///Users/vnpatel/opt/anaconda3/lib/python3.9/site-packages/pygame/sysfont.py?line=387'>388</a>\u001b[0m \u001b[39m    :return: A font.Font object.\u001b[39;00m\n\u001b[1;32m    <a href='file:///Users/vnpatel/opt/anaconda3/lib/python3.9/site-packages/pygame/sysfont.py?line=388'>389</a>\u001b[0m \u001b[39m    \"\"\"\u001b[39;00m\n\u001b[0;32m--> <a href='file:///Users/vnpatel/opt/anaconda3/lib/python3.9/site-packages/pygame/sysfont.py?line=390'>391</a>\u001b[0m     font \u001b[39m=\u001b[39m Font(fontpath, size)\n\u001b[1;32m    <a href='file:///Users/vnpatel/opt/anaconda3/lib/python3.9/site-packages/pygame/sysfont.py?line=391'>392</a>\u001b[0m     \u001b[39mif\u001b[39;00m bold:\n\u001b[1;32m    <a href='file:///Users/vnpatel/opt/anaconda3/lib/python3.9/site-packages/pygame/sysfont.py?line=392'>393</a>\u001b[0m         font\u001b[39m.\u001b[39mset_bold(\u001b[39mTrue\u001b[39;00m)\n",
      "\u001b[0;31merror\u001b[0m: font not initialized"
     ]
    },
    {
     "ename": "",
     "evalue": "",
     "output_type": "error",
     "traceback": [
      "\u001b[1;31mThe Kernel crashed while executing code in the the current cell or a previous cell. Please review the code in the cell(s) to identify a possible cause of the failure. Click <a href='https://aka.ms/vscodeJupyterKernelCrash'>here</a> for more info. View Jupyter <a href='command:jupyter.viewOutput'>log</a> for further details."
     ]
    }
   ],
   "source": [
    "\n",
    "# Main Function\n",
    "while True:\n",
    "\t\n",
    "\t# handling key events\n",
    "\tfor event in pygame.event.get():\n",
    "\t\tif event.type == pygame.KEYDOWN:\n",
    "\t\t\tif event.key == pygame.K_UP:\n",
    "\t\t\t\tchange_to = 'UP'\n",
    "\t\t\tif event.key == pygame.K_DOWN:\n",
    "\t\t\t\tchange_to = 'DOWN'\n",
    "\t\t\tif event.key == pygame.K_LEFT:\n",
    "\t\t\t\tchange_to = 'LEFT'\n",
    "\t\t\tif event.key == pygame.K_RIGHT:\n",
    "\t\t\t\tchange_to = 'RIGHT'\n",
    "\n",
    "\t# If two keys pressed simultaneously\n",
    "\t# we don't want snake to move into two\n",
    "\t# directions simultaneously\n",
    "\tif change_to == 'UP' and direction != 'DOWN':\n",
    "\t\tdirection = 'UP'\n",
    "\tif change_to == 'DOWN' and direction != 'UP':\n",
    "\t\tdirection = 'DOWN'\n",
    "\tif change_to == 'LEFT' and direction != 'RIGHT':\n",
    "\t\tdirection = 'LEFT'\n",
    "\tif change_to == 'RIGHT' and direction != 'LEFT':\n",
    "\t\tdirection = 'RIGHT'\n",
    "\n",
    "\t# Moving the snake\n",
    "\tif direction == 'UP':\n",
    "\t\tsnake_position[1] -= 10\n",
    "\tif direction == 'DOWN':\n",
    "\t\tsnake_position[1] += 10\n",
    "\tif direction == 'LEFT':\n",
    "\t\tsnake_position[0] -= 10\n",
    "\tif direction == 'RIGHT':\n",
    "\t\tsnake_position[0] += 10\n",
    "\n",
    "\t# Snake body growing mechanism\n",
    "\t# if fruits and snakes collide then scores\n",
    "\t# will be incremented by 10\n",
    "\tsnake_body.insert(0, list(snake_position))\n",
    "\tif snake_position[0] == fruit_position[0] and snake_position[1] == fruit_position[1]:\n",
    "\t\tscore += 10\n",
    "\t\tfruit_spawn = False\n",
    "\telse:\n",
    "\t\tsnake_body.pop()\n",
    "\t\t\n",
    "\tif not fruit_spawn:\n",
    "\t\tfruit_position = [random.randrange(1, (window_x//10)) * 10,\n",
    "\t\t\t\t\t\trandom.randrange(1, (window_y//10)) * 10]\n",
    "\t\t\n",
    "\tfruit_spawn = True\n",
    "\tgame_window.fill(black)\n",
    "\t\n",
    "\tfor pos in snake_body:\n",
    "\t\tpygame.draw.rect(game_window, green,\n",
    "\t\t\t\t\t\tpygame.Rect(pos[0], pos[1], 10, 10))\n",
    "\tpygame.draw.rect(game_window, white, pygame.Rect(\n",
    "\t\tfruit_position[0], fruit_position[1], 10, 10))\n",
    "\n",
    "\t# Game Over conditions\n",
    "\tif snake_position[0] < 0 or snake_position[0] > window_x-10:\n",
    "\t\tgame_over()\n",
    "\tif snake_position[1] < 0 or snake_position[1] > window_y-10:\n",
    "\t\tgame_over()\n",
    "\n",
    "\t# Touching the snake body\n",
    "\tfor block in snake_body[1:]:\n",
    "\t\tif snake_position[0] == block[0] and snake_position[1] == block[1]:\n",
    "\t\t\tgame_over()\n",
    "\n",
    "\t# displaying score countinuously\n",
    "\tshow_score(1, white, 'times new roman', 20)\n",
    "\n",
    "\t# Refresh game screen\n",
    "\tpygame.display.update()\n",
    "\n",
    "\t# Frame Per Second /Refresh Rate\n",
    "\tfps.tick(snake_speed)\n"
   ]
  },
  {
   "cell_type": "code",
   "execution_count": null,
   "metadata": {},
   "outputs": [],
   "source": []
  }
 ],
 "metadata": {
  "interpreter": {
   "hash": "1130c6fcdc5d54d72ee007ae6f050a4e73ebd221f4369885a9fcf27db29a26b6"
  },
  "kernelspec": {
   "display_name": "Python 3.9.7 ('base')",
   "language": "python",
   "name": "python3"
  },
  "language_info": {
   "codemirror_mode": {
    "name": "ipython",
    "version": 3
   },
   "file_extension": ".py",
   "mimetype": "text/x-python",
   "name": "python",
   "nbconvert_exporter": "python",
   "pygments_lexer": "ipython3",
   "version": "3.9.12"
  },
  "orig_nbformat": 4
 },
 "nbformat": 4,
 "nbformat_minor": 2
}
